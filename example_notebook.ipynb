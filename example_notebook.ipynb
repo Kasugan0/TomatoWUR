{
 "cells": [
  {
   "cell_type": "markdown",
   "metadata": {},
   "source": [
    "## Initialise WURTomato"
   ]
  },
  {
   "cell_type": "code",
   "execution_count": 1,
   "metadata": {},
   "outputs": [
    {
     "name": "stdout",
     "output_type": "stream",
     "text": [
      "warning file is missing\n",
      "warning file is missing\n",
      "warning file is missing\n",
      "warning file is missing\n",
      "warning file is missing\n",
      "Successfully loaded the WURTomato dataset\n"
     ]
    }
   ],
   "source": [
    "from wurTomato import WurTomatoData\n",
    "obj = WurTomatoData()\n",
    "\n"
   ]
  },
  {
   "cell_type": "code",
   "execution_count": 2,
   "metadata": {},
   "outputs": [
    {
     "name": "stdout",
     "output_type": "stream",
     "text": [
      "Visualising Harvest_01_PotNr_429\n",
      "[polyscope] Backend: openGL3_glfw -- Loaded openGL version: 3.3.0 NVIDIA 565.57.01\n"
     ]
    }
   ],
   "source": [
    "## visualize point cloud\n",
    "obj.visualise(index=0)"
   ]
  },
  {
   "cell_type": "code",
   "execution_count": 3,
   "metadata": {},
   "outputs": [
    {
     "name": "stdout",
     "output_type": "stream",
     "text": [
      "Visualising semantic Harvest_01_PotNr_429\n"
     ]
    }
   ],
   "source": [
    "## visualise_semantic\n",
    "obj.visualise_semantic(index=0)"
   ]
  },
  {
   "cell_type": "code",
   "execution_count": 4,
   "metadata": {},
   "outputs": [
    {
     "name": "stdout",
     "output_type": "stream",
     "text": [
      "click on the nodes of the skeleton to get information like internode length etc...\n",
      "Visualising skeleton Harvest_01_PotNr_429\n"
     ]
    }
   ],
   "source": [
    "## visualise_skeleton\n",
    "print(\"click on the nodes of the skeleton to get information like internode length etc...\")\n",
    "obj.visualise_skeleton(index=0)"
   ]
  },
  {
   "cell_type": "code",
   "execution_count": 5,
   "metadata": {},
   "outputs": [
    {
     "name": "stdout",
     "output_type": "stream",
     "text": [
      "Loading /home/agro/w-drive-vision/GARdata/datasets/tomato_plant_segmentation/TomatoWUR_4dataTU/TomatoWUR/ann_versions/0-paper-2Dto3D/json/../annotations/Harvest_01_PotNr_179/Harvest_01_PotNr_179_labels.csv\n",
      "fscore 0.8423781228138024\n",
      "IoU_macro 0.7366298470207363\n",
      "Loading /home/agro/w-drive-vision/GARdata/datasets/tomato_plant_segmentation/TomatoWUR_4dataTU/TomatoWUR/ann_versions/0-paper-2Dto3D/json/../annotations/Harvest_01_PotNr_429/Harvest_01_PotNr_429_labels.csv\n",
      "fscore 0.8483905369240877\n",
      "IoU_macro 0.7500421146589562\n",
      "Loading /home/agro/w-drive-vision/GARdata/datasets/tomato_plant_segmentation/TomatoWUR_4dataTU/TomatoWUR/ann_versions/0-paper-2Dto3D/json/../annotations/Harvest_02_PotNr_27/Harvest_02_PotNr_27_labels.csv\n",
      "fscore 0.8247326515658144\n",
      "IoU_macro 0.7163589346331813\n",
      "Loading /home/agro/w-drive-vision/GARdata/datasets/tomato_plant_segmentation/TomatoWUR_4dataTU/TomatoWUR/ann_versions/0-paper-2Dto3D/json/../annotations/Harvest_02_PotNr_166/Harvest_02_PotNr_166_labels.csv\n",
      "fscore 0.7368154433046654\n",
      "IoU_macro 0.6046765602721127\n",
      "Loading /home/agro/w-drive-vision/GARdata/datasets/tomato_plant_segmentation/TomatoWUR_4dataTU/TomatoWUR/ann_versions/0-paper-2Dto3D/json/../annotations/Harvest_02_PotNr_240/Harvest_02_PotNr_240_labels.csv\n",
      "fscore 0.7796862905215202\n",
      "IoU_macro 0.6526557672203276\n",
      "fscore 0.804513480305885\n",
      "IoU_macro 0.6864275940342102\n",
      "average metrics for all plants:\n",
      "   classes  precision    recall   f-score  iou_class  iou_micro  iou_macro\n",
      "0      1.0   0.979902  0.963142  0.971449   0.944484   0.877257   0.686428\n",
      "1      2.0   0.807659  0.672979  0.734193   0.580020   0.877257   0.686428\n",
      "2      3.0   0.782051  0.832261  0.806375   0.675568   0.877257   0.686428\n",
      "3      4.0   0.663022  0.755018  0.706036   0.545638   0.877257   0.686428\n",
      "Average metrics: Resources/metrics_semantic_segmenation.csv\n",
      "Single plant metrics saved: Resources/metrics_semantic_segmenation_per_plant.csv\n"
     ]
    }
   ],
   "source": [
    "## run_semseg_evaluation\n",
    "obj.run_semantic_evaluation()"
   ]
  },
  {
   "cell_type": "code",
   "execution_count": 2,
   "metadata": {},
   "outputs": [
    {
     "name": "stdout",
     "output_type": "stream",
     "text": [
      "Loading /home/agro/w-drive-vision/GARdata/datasets/tomato_plant_segmentation/TomatoWUR_4dataTU/TomatoWUR/ann_versions/0-paper-2Dto3D/json/../annotations/Harvest_01_PotNr_179/Harvest_01_PotNr_179_skeleton.csv\n",
      "Harvest_01_PotNr_179\n",
      "x\n",
      "Loading /home/agro/w-drive-vision/GARdata/datasets/tomato_plant_segmentation/TomatoWUR_4dataTU/TomatoWUR/ann_versions/0-paper-2Dto3D/json/../annotations/Harvest_01_PotNr_429/Harvest_01_PotNr_429_skeleton.csv\n",
      "Harvest_01_PotNr_429\n",
      "x\n",
      "Loading /home/agro/w-drive-vision/GARdata/datasets/tomato_plant_segmentation/TomatoWUR_4dataTU/TomatoWUR/ann_versions/0-paper-2Dto3D/json/../annotations/Harvest_02_PotNr_27/Harvest_02_PotNr_27_skeleton.csv\n",
      "Harvest_02_PotNr_27\n",
      "x\n",
      "Loading /home/agro/w-drive-vision/GARdata/datasets/tomato_plant_segmentation/TomatoWUR_4dataTU/TomatoWUR/ann_versions/0-paper-2Dto3D/json/../annotations/Harvest_02_PotNr_166/Harvest_02_PotNr_166_skeleton.csv\n",
      "Harvest_02_PotNr_166\n",
      "x\n",
      "Loading /home/agro/w-drive-vision/GARdata/datasets/tomato_plant_segmentation/TomatoWUR_4dataTU/TomatoWUR/ann_versions/0-paper-2Dto3D/json/../annotations/Harvest_02_PotNr_240/Harvest_02_PotNr_240_skeleton.csv\n",
      "Harvest_02_PotNr_240\n",
      "x\n",
      "------------------------------------------------------------\n",
      "NODE METRICS\n",
      "      metric  node_order\n",
      "0         TP  336.000000\n",
      "1         FP  337.000000\n",
      "2         FN   59.000000\n",
      "3  Precision    0.499257\n",
      "4     Recall    0.850633\n",
      "5         CD    0.022011\n",
      "------------------------------------------------------------\n",
      "EDGES METRICS\n",
      "            metric       value\n",
      "0         TP_edges  305.000000\n",
      "1         FP_edges  363.000000\n",
      "2         FN_edges   85.000000\n",
      "3  Precision_edges    0.456587\n",
      "4     Recall_edges    0.782051\n",
      "N = 5\n",
      "Mean Error -0.00 std 0.01\n",
      "Mean Absolute Error 0.01 std 0.00\n",
      "Mean Squared Error 0.00 std 0.00\n",
      "Root Mean Squared Error 0.01 std nan\n",
      "Mean Absolute Percentage Error 11.24[percentage] std 3.81\n",
      "N = 1\n",
      "Mean Error -0.00 std 0.00\n",
      "Mean Absolute Error 0.00 std 0.00\n",
      "Mean Squared Error 0.00 std 0.00\n",
      "Root Mean Squared Error 0.00 std nan\n",
      "Mean Absolute Percentage Error 14.85[percentage] std 0.00\n",
      "N = 0\n",
      "Mean Error nan std nan\n",
      "Mean Absolute Error nan std nan\n",
      "Mean Squared Error nan std nan\n",
      "Root Mean Squared Error nan std nan\n",
      "Mean Absolute Percentage Error nan[percentage] std nan\n",
      "N = 0\n",
      "Mean Error nan std nan\n",
      "Mean Absolute Error nan std nan\n",
      "Mean Squared Error nan std nan\n",
      "Root Mean Squared Error nan std nan\n",
      "Mean Absolute Percentage Error nan[percentage] std nan\n",
      "N = 0\n",
      "Mean Error nan std nan\n",
      "Mean Absolute Error nan std nan\n",
      "Mean Squared Error nan std nan\n",
      "Root Mean Squared Error nan std nan\n",
      "Mean Absolute Percentage Error nan[percentage] std nan\n",
      "N = 6\n",
      "Mean Error -0.00 std 0.01\n",
      "Mean Absolute Error 0.01 std 0.00\n",
      "Mean Squared Error 0.00 std 0.00\n",
      "Root Mean Squared Error 0.01 std nan\n",
      "Mean Absolute Percentage Error 11.85[percentage] std 3.73\n",
      "N = 5\n",
      "Mean Error -4.45 std 11.20\n",
      "Mean Absolute Error 10.67 std 5.61\n",
      "Mean Squared Error 145.23 std 123.20\n",
      "Root Mean Squared Error 12.05 std nan\n",
      "Mean Absolute Percentage Error 6.17[percentage] std 3.73\n",
      "N = 1\n",
      "Mean Error 6.85 std 0.00\n",
      "Mean Absolute Error 6.85 std 0.00\n",
      "Mean Squared Error 46.90 std 0.00\n",
      "Root Mean Squared Error 6.85 std nan\n",
      "Mean Absolute Percentage Error 4.89[percentage] std 0.00\n",
      "N = 0\n",
      "Mean Error nan std nan\n",
      "Mean Absolute Error nan std nan\n",
      "Mean Squared Error nan std nan\n",
      "Root Mean Squared Error nan std nan\n",
      "Mean Absolute Percentage Error nan[percentage] std nan\n",
      "N = 0\n",
      "Mean Error nan std nan\n",
      "Mean Absolute Error nan std nan\n",
      "Mean Squared Error nan std nan\n",
      "Root Mean Squared Error nan std nan\n",
      "Mean Absolute Percentage Error nan[percentage] std nan\n",
      "N = 0\n",
      "Mean Error nan std nan\n",
      "Mean Absolute Error nan std nan\n",
      "Mean Squared Error nan std nan\n",
      "Root Mean Squared Error nan std nan\n",
      "Mean Absolute Percentage Error nan[percentage] std nan\n",
      "N = 6\n",
      "Mean Error -2.57 std 11.06\n",
      "Mean Absolute Error 10.03 std 5.32\n",
      "Mean Squared Error 128.85 std 118.29\n",
      "Root Mean Squared Error 11.35 std nan\n",
      "Mean Absolute Percentage Error 5.96[percentage] std 3.43\n",
      "N = 4\n",
      "Mean Error 8.37 std 8.10\n",
      "Mean Absolute Error 10.45 std 5.14\n",
      "Mean Squared Error 135.76 std 114.18\n",
      "Root Mean Squared Error 11.65 std nan\n",
      "Mean Absolute Percentage Error 17.74[percentage] std 8.60\n",
      "N = 1\n",
      "Mean Error 18.12 std 0.00\n",
      "Mean Absolute Error 18.12 std 0.00\n",
      "Mean Squared Error 328.44 std 0.00\n",
      "Root Mean Squared Error 18.12 std nan\n",
      "Mean Absolute Percentage Error 22.94[percentage] std 0.00\n",
      "N = 0\n",
      "Mean Error nan std nan\n",
      "Mean Absolute Error nan std nan\n",
      "Mean Squared Error nan std nan\n",
      "Root Mean Squared Error nan std nan\n",
      "Mean Absolute Percentage Error nan[percentage] std nan\n",
      "N = 0\n",
      "Mean Error nan std nan\n",
      "Mean Absolute Error nan std nan\n",
      "Mean Squared Error nan std nan\n",
      "Root Mean Squared Error nan std nan\n",
      "Mean Absolute Percentage Error nan[percentage] std nan\n",
      "N = 0\n",
      "Mean Error nan std nan\n",
      "Mean Absolute Error nan std nan\n",
      "Mean Squared Error nan std nan\n",
      "Root Mean Squared Error nan std nan\n",
      "Mean Absolute Percentage Error nan[percentage] std nan\n",
      "N = 5\n",
      "Mean Error 10.32 std 8.23\n",
      "Mean Absolute Error 11.99 std 5.53\n",
      "Mean Squared Error 174.30 std 127.95\n",
      "Root Mean Squared Error 13.20 std nan\n",
      "Mean Absolute Percentage Error 18.78[percentage] std 7.97\n",
      "---------------------------------------------------------------------------------------------------- \n",
      "    metric  node_order node_order_0 node_order_1 node_order_2 node_order_3\n",
      "       TP  336.000000           34           78           93            3\n",
      "       FP  337.000000           68          135          182           80\n",
      "       FN   59.000000           20           81           78            8\n",
      "Precision    0.499257     0.333333     0.366197     0.338182     0.036145\n",
      "   Recall    0.850633      0.62963     0.490566      0.54386     0.272727\n",
      "       CD    0.022011                                                    \n",
      "---------------------------------------------------------------------------------------------------- \n",
      "          metric      value\n",
      "       TP_edges 305.000000\n",
      "       FP_edges 363.000000\n",
      "       FN_edges  85.000000\n",
      "Precision_edges   0.456587\n",
      "   Recall_edges   0.782051\n",
      "---------------------------------------------------------------------------------------------------- \n",
      "         trait       MAE      MAPE  N  N_notmatched\n",
      "gt_int_length  0.007138 11.845162  6             8\n",
      "  gt_ph_angle 10.029586  5.958733  6             8\n",
      "  gt_lf_angle 11.988001 18.778806  5             9\n",
      "Result are in file:///media/agro/PhDBart1/plant3d/TomatoWUR/Resources/output_skeleton/xu/metrics_edge.csv\n"
     ]
    },
    {
     "name": "stderr",
     "output_type": "stream",
     "text": [
      "/media/agro/PhDBart1/plant3d/TomatoWUR/scripts/calculate_metrics.py:32: RuntimeWarning: Mean of empty slice.\n",
      "  self.mean = (self.y_pred-self.gt).mean()\n",
      "/home/agro/anaconda3/envs/plant3d/lib/python3.9/site-packages/numpy/core/_methods.py:129: RuntimeWarning: invalid value encountered in scalar divide\n",
      "  ret = ret.dtype.type(ret / rcount)\n",
      "/home/agro/anaconda3/envs/plant3d/lib/python3.9/site-packages/numpy/core/_methods.py:206: RuntimeWarning: Degrees of freedom <= 0 for slice\n",
      "  ret = _var(a, axis=axis, dtype=dtype, out=out, ddof=ddof,\n",
      "/home/agro/anaconda3/envs/plant3d/lib/python3.9/site-packages/numpy/core/_methods.py:163: RuntimeWarning: invalid value encountered in divide\n",
      "  arrmean = um.true_divide(arrmean, div, out=arrmean,\n",
      "/home/agro/anaconda3/envs/plant3d/lib/python3.9/site-packages/numpy/core/_methods.py:198: RuntimeWarning: invalid value encountered in scalar divide\n",
      "  ret = ret.dtype.type(ret / rcount)\n",
      "/media/agro/PhDBart1/plant3d/TomatoWUR/scripts/calculate_metrics.py:38: RuntimeWarning: Mean of empty slice.\n",
      "  self.mae = np.abs(self.y_pred-self.gt).mean()\n",
      "/home/agro/anaconda3/envs/plant3d/lib/python3.9/site-packages/numpy/core/fromnumeric.py:3504: RuntimeWarning: Mean of empty slice.\n",
      "  return _methods._mean(a, axis=axis, dtype=dtype,\n",
      "/media/agro/PhDBart1/plant3d/TomatoWUR/scripts/calculate_metrics.py:32: RuntimeWarning: Mean of empty slice.\n",
      "  self.mean = (self.y_pred-self.gt).mean()\n",
      "/home/agro/anaconda3/envs/plant3d/lib/python3.9/site-packages/numpy/core/_methods.py:129: RuntimeWarning: invalid value encountered in scalar divide\n",
      "  ret = ret.dtype.type(ret / rcount)\n",
      "/home/agro/anaconda3/envs/plant3d/lib/python3.9/site-packages/numpy/core/_methods.py:206: RuntimeWarning: Degrees of freedom <= 0 for slice\n",
      "  ret = _var(a, axis=axis, dtype=dtype, out=out, ddof=ddof,\n",
      "/home/agro/anaconda3/envs/plant3d/lib/python3.9/site-packages/numpy/core/_methods.py:163: RuntimeWarning: invalid value encountered in divide\n",
      "  arrmean = um.true_divide(arrmean, div, out=arrmean,\n",
      "/home/agro/anaconda3/envs/plant3d/lib/python3.9/site-packages/numpy/core/_methods.py:198: RuntimeWarning: invalid value encountered in scalar divide\n",
      "  ret = ret.dtype.type(ret / rcount)\n",
      "/media/agro/PhDBart1/plant3d/TomatoWUR/scripts/calculate_metrics.py:38: RuntimeWarning: Mean of empty slice.\n",
      "  self.mae = np.abs(self.y_pred-self.gt).mean()\n",
      "/home/agro/anaconda3/envs/plant3d/lib/python3.9/site-packages/numpy/core/fromnumeric.py:3504: RuntimeWarning: Mean of empty slice.\n",
      "  return _methods._mean(a, axis=axis, dtype=dtype,\n",
      "/media/agro/PhDBart1/plant3d/TomatoWUR/scripts/calculate_metrics.py:32: RuntimeWarning: Mean of empty slice.\n",
      "  self.mean = (self.y_pred-self.gt).mean()\n",
      "/home/agro/anaconda3/envs/plant3d/lib/python3.9/site-packages/numpy/core/_methods.py:129: RuntimeWarning: invalid value encountered in scalar divide\n",
      "  ret = ret.dtype.type(ret / rcount)\n",
      "/home/agro/anaconda3/envs/plant3d/lib/python3.9/site-packages/numpy/core/_methods.py:206: RuntimeWarning: Degrees of freedom <= 0 for slice\n",
      "  ret = _var(a, axis=axis, dtype=dtype, out=out, ddof=ddof,\n",
      "/home/agro/anaconda3/envs/plant3d/lib/python3.9/site-packages/numpy/core/_methods.py:163: RuntimeWarning: invalid value encountered in divide\n",
      "  arrmean = um.true_divide(arrmean, div, out=arrmean,\n",
      "/home/agro/anaconda3/envs/plant3d/lib/python3.9/site-packages/numpy/core/_methods.py:198: RuntimeWarning: invalid value encountered in scalar divide\n",
      "  ret = ret.dtype.type(ret / rcount)\n",
      "/media/agro/PhDBart1/plant3d/TomatoWUR/scripts/calculate_metrics.py:38: RuntimeWarning: Mean of empty slice.\n",
      "  self.mae = np.abs(self.y_pred-self.gt).mean()\n",
      "/home/agro/anaconda3/envs/plant3d/lib/python3.9/site-packages/numpy/core/fromnumeric.py:3504: RuntimeWarning: Mean of empty slice.\n",
      "  return _methods._mean(a, axis=axis, dtype=dtype,\n",
      "/media/agro/PhDBart1/plant3d/TomatoWUR/scripts/calculate_metrics.py:32: RuntimeWarning: Mean of empty slice.\n",
      "  self.mean = (self.y_pred-self.gt).mean()\n",
      "/home/agro/anaconda3/envs/plant3d/lib/python3.9/site-packages/numpy/core/_methods.py:129: RuntimeWarning: invalid value encountered in scalar divide\n",
      "  ret = ret.dtype.type(ret / rcount)\n",
      "/home/agro/anaconda3/envs/plant3d/lib/python3.9/site-packages/numpy/core/_methods.py:206: RuntimeWarning: Degrees of freedom <= 0 for slice\n",
      "  ret = _var(a, axis=axis, dtype=dtype, out=out, ddof=ddof,\n",
      "/home/agro/anaconda3/envs/plant3d/lib/python3.9/site-packages/numpy/core/_methods.py:163: RuntimeWarning: invalid value encountered in divide\n",
      "  arrmean = um.true_divide(arrmean, div, out=arrmean,\n",
      "/home/agro/anaconda3/envs/plant3d/lib/python3.9/site-packages/numpy/core/_methods.py:198: RuntimeWarning: invalid value encountered in scalar divide\n",
      "  ret = ret.dtype.type(ret / rcount)\n",
      "/media/agro/PhDBart1/plant3d/TomatoWUR/scripts/calculate_metrics.py:38: RuntimeWarning: Mean of empty slice.\n",
      "  self.mae = np.abs(self.y_pred-self.gt).mean()\n",
      "/home/agro/anaconda3/envs/plant3d/lib/python3.9/site-packages/numpy/core/fromnumeric.py:3504: RuntimeWarning: Mean of empty slice.\n",
      "  return _methods._mean(a, axis=axis, dtype=dtype,\n",
      "/media/agro/PhDBart1/plant3d/TomatoWUR/scripts/calculate_metrics.py:32: RuntimeWarning: Mean of empty slice.\n",
      "  self.mean = (self.y_pred-self.gt).mean()\n",
      "/home/agro/anaconda3/envs/plant3d/lib/python3.9/site-packages/numpy/core/_methods.py:129: RuntimeWarning: invalid value encountered in scalar divide\n",
      "  ret = ret.dtype.type(ret / rcount)\n",
      "/home/agro/anaconda3/envs/plant3d/lib/python3.9/site-packages/numpy/core/_methods.py:206: RuntimeWarning: Degrees of freedom <= 0 for slice\n",
      "  ret = _var(a, axis=axis, dtype=dtype, out=out, ddof=ddof,\n",
      "/home/agro/anaconda3/envs/plant3d/lib/python3.9/site-packages/numpy/core/_methods.py:163: RuntimeWarning: invalid value encountered in divide\n",
      "  arrmean = um.true_divide(arrmean, div, out=arrmean,\n",
      "/home/agro/anaconda3/envs/plant3d/lib/python3.9/site-packages/numpy/core/_methods.py:198: RuntimeWarning: invalid value encountered in scalar divide\n",
      "  ret = ret.dtype.type(ret / rcount)\n",
      "/media/agro/PhDBart1/plant3d/TomatoWUR/scripts/calculate_metrics.py:38: RuntimeWarning: Mean of empty slice.\n",
      "  self.mae = np.abs(self.y_pred-self.gt).mean()\n",
      "/home/agro/anaconda3/envs/plant3d/lib/python3.9/site-packages/numpy/core/fromnumeric.py:3504: RuntimeWarning: Mean of empty slice.\n",
      "  return _methods._mean(a, axis=axis, dtype=dtype,\n",
      "/media/agro/PhDBart1/plant3d/TomatoWUR/scripts/calculate_metrics.py:32: RuntimeWarning: Mean of empty slice.\n",
      "  self.mean = (self.y_pred-self.gt).mean()\n",
      "/home/agro/anaconda3/envs/plant3d/lib/python3.9/site-packages/numpy/core/_methods.py:129: RuntimeWarning: invalid value encountered in scalar divide\n",
      "  ret = ret.dtype.type(ret / rcount)\n",
      "/home/agro/anaconda3/envs/plant3d/lib/python3.9/site-packages/numpy/core/_methods.py:206: RuntimeWarning: Degrees of freedom <= 0 for slice\n",
      "  ret = _var(a, axis=axis, dtype=dtype, out=out, ddof=ddof,\n",
      "/home/agro/anaconda3/envs/plant3d/lib/python3.9/site-packages/numpy/core/_methods.py:163: RuntimeWarning: invalid value encountered in divide\n",
      "  arrmean = um.true_divide(arrmean, div, out=arrmean,\n",
      "/home/agro/anaconda3/envs/plant3d/lib/python3.9/site-packages/numpy/core/_methods.py:198: RuntimeWarning: invalid value encountered in scalar divide\n",
      "  ret = ret.dtype.type(ret / rcount)\n",
      "/media/agro/PhDBart1/plant3d/TomatoWUR/scripts/calculate_metrics.py:38: RuntimeWarning: Mean of empty slice.\n",
      "  self.mae = np.abs(self.y_pred-self.gt).mean()\n",
      "/home/agro/anaconda3/envs/plant3d/lib/python3.9/site-packages/numpy/core/fromnumeric.py:3504: RuntimeWarning: Mean of empty slice.\n",
      "  return _methods._mean(a, axis=axis, dtype=dtype,\n",
      "/media/agro/PhDBart1/plant3d/TomatoWUR/scripts/calculate_metrics.py:32: RuntimeWarning: Mean of empty slice.\n",
      "  self.mean = (self.y_pred-self.gt).mean()\n",
      "/home/agro/anaconda3/envs/plant3d/lib/python3.9/site-packages/numpy/core/_methods.py:129: RuntimeWarning: invalid value encountered in scalar divide\n",
      "  ret = ret.dtype.type(ret / rcount)\n",
      "/home/agro/anaconda3/envs/plant3d/lib/python3.9/site-packages/numpy/core/_methods.py:206: RuntimeWarning: Degrees of freedom <= 0 for slice\n",
      "  ret = _var(a, axis=axis, dtype=dtype, out=out, ddof=ddof,\n",
      "/home/agro/anaconda3/envs/plant3d/lib/python3.9/site-packages/numpy/core/_methods.py:163: RuntimeWarning: invalid value encountered in divide\n",
      "  arrmean = um.true_divide(arrmean, div, out=arrmean,\n",
      "/home/agro/anaconda3/envs/plant3d/lib/python3.9/site-packages/numpy/core/_methods.py:198: RuntimeWarning: invalid value encountered in scalar divide\n",
      "  ret = ret.dtype.type(ret / rcount)\n",
      "/media/agro/PhDBart1/plant3d/TomatoWUR/scripts/calculate_metrics.py:38: RuntimeWarning: Mean of empty slice.\n",
      "  self.mae = np.abs(self.y_pred-self.gt).mean()\n",
      "/home/agro/anaconda3/envs/plant3d/lib/python3.9/site-packages/numpy/core/fromnumeric.py:3504: RuntimeWarning: Mean of empty slice.\n",
      "  return _methods._mean(a, axis=axis, dtype=dtype,\n",
      "/media/agro/PhDBart1/plant3d/TomatoWUR/scripts/calculate_metrics.py:32: RuntimeWarning: Mean of empty slice.\n",
      "  self.mean = (self.y_pred-self.gt).mean()\n",
      "/home/agro/anaconda3/envs/plant3d/lib/python3.9/site-packages/numpy/core/_methods.py:129: RuntimeWarning: invalid value encountered in scalar divide\n",
      "  ret = ret.dtype.type(ret / rcount)\n",
      "/home/agro/anaconda3/envs/plant3d/lib/python3.9/site-packages/numpy/core/_methods.py:206: RuntimeWarning: Degrees of freedom <= 0 for slice\n",
      "  ret = _var(a, axis=axis, dtype=dtype, out=out, ddof=ddof,\n",
      "/home/agro/anaconda3/envs/plant3d/lib/python3.9/site-packages/numpy/core/_methods.py:163: RuntimeWarning: invalid value encountered in divide\n",
      "  arrmean = um.true_divide(arrmean, div, out=arrmean,\n",
      "/home/agro/anaconda3/envs/plant3d/lib/python3.9/site-packages/numpy/core/_methods.py:198: RuntimeWarning: invalid value encountered in scalar divide\n",
      "  ret = ret.dtype.type(ret / rcount)\n",
      "/media/agro/PhDBart1/plant3d/TomatoWUR/scripts/calculate_metrics.py:38: RuntimeWarning: Mean of empty slice.\n",
      "  self.mae = np.abs(self.y_pred-self.gt).mean()\n",
      "/home/agro/anaconda3/envs/plant3d/lib/python3.9/site-packages/numpy/core/fromnumeric.py:3504: RuntimeWarning: Mean of empty slice.\n",
      "  return _methods._mean(a, axis=axis, dtype=dtype,\n",
      "/media/agro/PhDBart1/plant3d/TomatoWUR/scripts/calculate_metrics.py:32: RuntimeWarning: Mean of empty slice.\n",
      "  self.mean = (self.y_pred-self.gt).mean()\n",
      "/home/agro/anaconda3/envs/plant3d/lib/python3.9/site-packages/numpy/core/_methods.py:129: RuntimeWarning: invalid value encountered in scalar divide\n",
      "  ret = ret.dtype.type(ret / rcount)\n",
      "/home/agro/anaconda3/envs/plant3d/lib/python3.9/site-packages/numpy/core/_methods.py:206: RuntimeWarning: Degrees of freedom <= 0 for slice\n",
      "  ret = _var(a, axis=axis, dtype=dtype, out=out, ddof=ddof,\n",
      "/home/agro/anaconda3/envs/plant3d/lib/python3.9/site-packages/numpy/core/_methods.py:163: RuntimeWarning: invalid value encountered in divide\n",
      "  arrmean = um.true_divide(arrmean, div, out=arrmean,\n",
      "/home/agro/anaconda3/envs/plant3d/lib/python3.9/site-packages/numpy/core/_methods.py:198: RuntimeWarning: invalid value encountered in scalar divide\n",
      "  ret = ret.dtype.type(ret / rcount)\n",
      "/media/agro/PhDBart1/plant3d/TomatoWUR/scripts/calculate_metrics.py:38: RuntimeWarning: Mean of empty slice.\n",
      "  self.mae = np.abs(self.y_pred-self.gt).mean()\n",
      "/home/agro/anaconda3/envs/plant3d/lib/python3.9/site-packages/numpy/core/fromnumeric.py:3504: RuntimeWarning: Mean of empty slice.\n",
      "  return _methods._mean(a, axis=axis, dtype=dtype,\n"
     ]
    }
   ],
   "source": [
    "## run_skeleton_evaluation\n",
    "obj.run_skeleton_evaluation()"
   ]
  },
  {
   "cell_type": "code",
   "execution_count": 2,
   "metadata": {},
   "outputs": [
    {
     "name": "stderr",
     "output_type": "stream",
     "text": [
      "  0%|          | 0/5 [00:00<?, ?it/s]"
     ]
    },
    {
     "name": "stdout",
     "output_type": "stream",
     "text": [
      "Running skeletonisation on /home/agro/w-drive-vision/GARdata/datasets/tomato_plant_segmentation/TomatoWUR_4dataTU/TomatoWUR/ann_versions/0-paper-2Dto3D/json/../../../point_clouds/Harvest_01_PotNr_429.csv\n",
      "Compute Remanian graph.\n",
      "Compute distance to root.\n"
     ]
    },
    {
     "name": "stderr",
     "output_type": "stream",
     "text": [
      " 20%|██        | 1/5 [00:01<00:05,  1.36s/it]"
     ]
    },
    {
     "name": "stdout",
     "output_type": "stream",
     "text": [
      "Compute cluster according to distance to root.\n",
      "Nb of groups : 151\n",
      "Compute adjacency graph of groups.\n",
      "Compute centroid of groups.\n",
      "Compute spanning tree of groups.\n",
      "Remove short nodes  \n",
      "saving skeleton to Resources/output_skeleton/xu/Harvest_01_PotNr_429.csv\n",
      "Running skeletonisation on /home/agro/w-drive-vision/GARdata/datasets/tomato_plant_segmentation/TomatoWUR_4dataTU/TomatoWUR/ann_versions/0-paper-2Dto3D/json/../../../point_clouds/Harvest_02_PotNr_240.csv\n",
      "Compute Remanian graph.\n",
      "Compute distance to root.\n"
     ]
    },
    {
     "name": "stderr",
     "output_type": "stream",
     "text": [
      " 40%|████      | 2/5 [00:04<00:06,  2.20s/it]"
     ]
    },
    {
     "name": "stdout",
     "output_type": "stream",
     "text": [
      "Compute cluster according to distance to root.\n",
      "Nb of groups : 120\n",
      "Compute adjacency graph of groups.\n",
      "Compute centroid of groups.\n",
      "Compute spanning tree of groups.\n",
      "Remove short nodes  \n",
      "saving skeleton to Resources/output_skeleton/xu/Harvest_02_PotNr_240.csv\n",
      "Running skeletonisation on /home/agro/w-drive-vision/GARdata/datasets/tomato_plant_segmentation/TomatoWUR_4dataTU/TomatoWUR/ann_versions/0-paper-2Dto3D/json/../../../point_clouds/Harvest_02_PotNr_27.csv\n",
      "Compute Remanian graph.\n",
      "Compute distance to root.\n"
     ]
    },
    {
     "name": "stderr",
     "output_type": "stream",
     "text": [
      " 60%|██████    | 3/5 [00:06<00:04,  2.30s/it]"
     ]
    },
    {
     "name": "stdout",
     "output_type": "stream",
     "text": [
      "Compute cluster according to distance to root.\n",
      "Nb of groups : 110\n",
      "Compute adjacency graph of groups.\n",
      "Compute centroid of groups.\n",
      "Compute spanning tree of groups.\n",
      "Remove short nodes  \n",
      "saving skeleton to Resources/output_skeleton/xu/Harvest_02_PotNr_27.csv\n",
      "Running skeletonisation on /home/agro/w-drive-vision/GARdata/datasets/tomato_plant_segmentation/TomatoWUR_4dataTU/TomatoWUR/ann_versions/0-paper-2Dto3D/json/../../../point_clouds/Harvest_01_PotNr_179.csv\n",
      "Compute Remanian graph.\n",
      "Compute distance to root.\n"
     ]
    },
    {
     "name": "stderr",
     "output_type": "stream",
     "text": [
      " 80%|████████  | 4/5 [00:08<00:02,  2.05s/it]"
     ]
    },
    {
     "name": "stdout",
     "output_type": "stream",
     "text": [
      "Compute cluster according to distance to root.\n",
      "Nb of groups : 118\n",
      "Compute adjacency graph of groups.\n",
      "Compute centroid of groups.\n",
      "Compute spanning tree of groups.\n",
      "Remove short nodes  \n",
      "saving skeleton to Resources/output_skeleton/xu/Harvest_01_PotNr_179.csv\n",
      "Running skeletonisation on /home/agro/w-drive-vision/GARdata/datasets/tomato_plant_segmentation/TomatoWUR_4dataTU/TomatoWUR/ann_versions/0-paper-2Dto3D/json/../../../point_clouds/Harvest_02_PotNr_166.csv\n",
      "Compute Remanian graph.\n",
      "Compute distance to root.\n"
     ]
    },
    {
     "name": "stderr",
     "output_type": "stream",
     "text": [
      "100%|██████████| 5/5 [00:10<00:00,  2.12s/it]"
     ]
    },
    {
     "name": "stdout",
     "output_type": "stream",
     "text": [
      "Compute cluster according to distance to root.\n",
      "Nb of groups : 169\n",
      "Compute adjacency graph of groups.\n",
      "Compute centroid of groups.\n",
      "Compute spanning tree of groups.\n",
      "Remove short nodes  \n",
      "saving skeleton to Resources/output_skeleton/xu/Harvest_02_PotNr_166.csv\n"
     ]
    },
    {
     "name": "stderr",
     "output_type": "stream",
     "text": [
      "\n"
     ]
    }
   ],
   "source": [
    "## run_skeletonisation\n",
    "obj.run_skeletonisation(visualise=False)"
   ]
  }
 ],
 "metadata": {
  "kernelspec": {
   "display_name": "plant3d",
   "language": "python",
   "name": "python3"
  },
  "language_info": {
   "codemirror_mode": {
    "name": "ipython",
    "version": 3
   },
   "file_extension": ".py",
   "mimetype": "text/x-python",
   "name": "python",
   "nbconvert_exporter": "python",
   "pygments_lexer": "ipython3",
   "version": "3.9.19"
  }
 },
 "nbformat": 4,
 "nbformat_minor": 2
}
